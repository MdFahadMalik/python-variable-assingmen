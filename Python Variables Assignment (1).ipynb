{
 "cells": [
  {
   "cell_type": "code",
   "execution_count": 1,
   "id": "f0ddf1f4-aa77-418a-8d60-13bb907bbfa1",
   "metadata": {},
   "outputs": [],
   "source": [
    "a = \"Q1. Write all the conventions being followed while declaring a variable.\""
   ]
  },
  {
   "cell_type": "code",
   "execution_count": 2,
   "id": "ce6c9bd1-5ec0-41b8-bb2f-295071e548f8",
   "metadata": {},
   "outputs": [],
   "source": [
    "b = \"1\""
   ]
  },
  {
   "cell_type": "code",
   "execution_count": 3,
   "id": "c58d1fcf-f12d-492b-88b3-bc8d166ccd32",
   "metadata": {},
   "outputs": [],
   "source": [
    "b1 = \" This is (b\\b1) are example of declaring a variable \""
   ]
  },
  {
   "cell_type": "code",
   "execution_count": 6,
   "id": "a4e19e58-f13b-4423-b2d9-8a2c5a9bd20d",
   "metadata": {},
   "outputs": [],
   "source": [
    "b2 = Identifiers must start with a Letter (A-Z) or an underscore (\"_\"), followed by more letters or numbers"
   ]
  },
  {
   "cell_type": "code",
   "execution_count": 12,
   "id": "36d2d95a-9f1b-48bf-9359-d9bd57464876",
   "metadata": {},
   "outputs": [],
   "source": [
    "A = \"What will happen if we declare a restricted keyword as a variable?\""
   ]
  },
  {
   "cell_type": "code",
   "execution_count": 13,
   "id": "fe6c0e43-a84e-48e5-a760-fa19de1e6c9f",
   "metadata": {},
   "outputs": [],
   "source": [
    "ANS2 = \" I think synthyx error \""
   ]
  },
  {
   "cell_type": "code",
   "execution_count": 16,
   "id": "c2220c6e-921f-4cfb-affa-26a85b248e8c",
   "metadata": {},
   "outputs": [
    {
     "ename": "SyntaxError",
     "evalue": "invalid syntax (3932821935.py, line 1)",
     "output_type": "error",
     "traceback": [
      "\u001b[0;36m  Cell \u001b[0;32mIn[16], line 1\u001b[0;36m\u001b[0m\n\u001b[0;31m    ONEMAN 1\u001b[0m\n\u001b[0m           ^\u001b[0m\n\u001b[0;31mSyntaxError\u001b[0m\u001b[0;31m:\u001b[0m invalid syntax\n"
     ]
    }
   ],
   "source": [
    "ONEMAN 1"
   ]
  },
  {
   "cell_type": "code",
   "execution_count": 21,
   "id": "17403998-63f4-45bb-92c6-26b33d2a210b",
   "metadata": {},
   "outputs": [],
   "source": [
    "Q3=\" Can we actually declare a string as a variable name?\""
   ]
  },
  {
   "cell_type": "code",
   "execution_count": 23,
   "id": "55fd9671-f295-414c-9b8d-90fe7a42e96e",
   "metadata": {},
   "outputs": [
    {
     "data": {
      "text/plain": [
       "'1'"
      ]
     },
     "execution_count": 23,
     "metadata": {},
     "output_type": "execute_result"
    }
   ],
   "source": [
    "b"
   ]
  },
  {
   "cell_type": "code",
   "execution_count": 24,
   "id": "1560af74-098d-4482-9d1c-903d7c994530",
   "metadata": {},
   "outputs": [
    {
     "data": {
      "text/plain": [
       "str"
      ]
     },
     "execution_count": 24,
     "metadata": {},
     "output_type": "execute_result"
    }
   ],
   "source": [
    "type(b)"
   ]
  },
  {
   "cell_type": "code",
   "execution_count": 22,
   "id": "30f9d510-688a-4934-b848-ab05f7bb242a",
   "metadata": {},
   "outputs": [],
   "source": [
    "ANS3 =\" yes , we can declare string as a variable\""
   ]
  },
  {
   "cell_type": "code",
   "execution_count": 25,
   "id": "ad2d4657-7599-4f05-a854-92cd449e0c55",
   "metadata": {},
   "outputs": [],
   "source": [
    "Q4 = \"Is it possible for us to declare “_” as a variable? If so, then write an example of it.\""
   ]
  },
  {
   "cell_type": "code",
   "execution_count": 26,
   "id": "d55565b2-a795-419d-8409-f2ea71a61d08",
   "metadata": {},
   "outputs": [],
   "source": [
    "ans4 = \"_\""
   ]
  },
  {
   "cell_type": "code",
   "execution_count": 27,
   "id": "d58ec2fe-e32e-4f87-81cf-1cbb7e8190a8",
   "metadata": {},
   "outputs": [
    {
     "data": {
      "text/plain": [
       "str"
      ]
     },
     "execution_count": 27,
     "metadata": {},
     "output_type": "execute_result"
    }
   ],
   "source": [
    "type (ans4)"
   ]
  },
  {
   "cell_type": "code",
   "execution_count": 28,
   "id": "12709b10-7916-424c-873a-96cd8b764281",
   "metadata": {},
   "outputs": [
    {
     "data": {
      "text/plain": [
       "'_'"
      ]
     },
     "execution_count": 28,
     "metadata": {},
     "output_type": "execute_result"
    }
   ],
   "source": [
    "\"_\""
   ]
  },
  {
   "cell_type": "code",
   "execution_count": 31,
   "id": "210e2353-a6eb-4b4c-93bd-a565e5c99576",
   "metadata": {},
   "outputs": [],
   "source": [
    "Q5=\". Using an example, explain how the variables in python are dynamic in nature.\""
   ]
  },
  {
   "cell_type": "code",
   "execution_count": 32,
   "id": "20cc2e53-cc59-45ca-8e91-689ae271d373",
   "metadata": {},
   "outputs": [],
   "source": [
    "ans5 =\" I actully don't KNOw but by the gogle ( the type of the variable is determined only during runtime.)\""
   ]
  },
  {
   "cell_type": "code",
   "execution_count": 33,
   "id": "216524e1-b43c-4711-96c4-dfabd658b63b",
   "metadata": {},
   "outputs": [],
   "source": [
    "A1 =\" Assingment is completed i will get more knowledge to improve my skils AND THANKS PW for thi course \""
   ]
  },
  {
   "cell_type": "code",
   "execution_count": null,
   "id": "2081dac1-ced3-48dc-836c-bd5be0b00e3a",
   "metadata": {},
   "outputs": [],
   "source": []
  }
 ],
 "metadata": {
  "kernelspec": {
   "display_name": "Python 3 (ipykernel)",
   "language": "python",
   "name": "python3"
  },
  "language_info": {
   "codemirror_mode": {
    "name": "ipython",
    "version": 3
   },
   "file_extension": ".py",
   "mimetype": "text/x-python",
   "name": "python",
   "nbconvert_exporter": "python",
   "pygments_lexer": "ipython3",
   "version": "3.10.8"
  }
 },
 "nbformat": 4,
 "nbformat_minor": 5
}
